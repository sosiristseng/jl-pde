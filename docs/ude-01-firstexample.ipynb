{
 "cells": [
  {
   "cell_type": "markdown",
   "source": [
    "# First Neural ODE example\n",
    "\n",
    "A neural ODE is an ODE where a neural network defines its derivative function. $\\dot{u} = NN(u)$\n",
    "\n",
    "From: https://docs.sciml.ai/DiffEqFlux/stable/examples/neural_ode/"
   ],
   "metadata": {}
  },
  {
   "outputs": [],
   "cell_type": "code",
   "source": [
    "using Lux, DiffEqFlux, OrdinaryDiffEq, ComponentArrays\n",
    "using Optimization, OptimizationOptimJL, OptimizationOptimisers\n",
    "using Random, Plots\n",
    "rng = Random.Xoshiro(0)"
   ],
   "metadata": {},
   "execution_count": null
  },
  {
   "cell_type": "markdown",
   "source": [
    "True solution: $u^3$ and multiplied by a matrix"
   ],
   "metadata": {}
  },
  {
   "outputs": [],
   "cell_type": "code",
   "source": [
    "function trueODEfunc(du, u, p, t)\n",
    "    true_A = [-0.1 2.0; -2.0 -0.1]\n",
    "    du .= ((u.^3)'true_A)'\n",
    "end"
   ],
   "metadata": {},
   "execution_count": null
  },
  {
   "cell_type": "markdown",
   "source": [
    "Generate data from the true function"
   ],
   "metadata": {}
  },
  {
   "outputs": [],
   "cell_type": "code",
   "source": [
    "u0 = [2.0; 0.0]\n",
    "datasize = 31\n",
    "tspan = (0.0, 1.5)\n",
    "tsteps = range(tspan[begin], tspan[end], length = datasize)\n",
    "prob_trueode = ODEProblem(trueODEfunc, u0, tspan)\n",
    "ode_data = Array(solve(prob_trueode, Tsit5(), saveat = tsteps))"
   ],
   "metadata": {},
   "execution_count": null
  },
  {
   "cell_type": "markdown",
   "source": [
    "Define a `NeuralODE` problem with a neural network from `Lux.jl`."
   ],
   "metadata": {}
  },
  {
   "outputs": [],
   "cell_type": "code",
   "source": [
    "dudt2 = Lux.Chain(\n",
    "    x -> x.^3,\n",
    "    Lux.Dense(2, 50, tanh),\n",
    "    Lux.Dense(50, 2)\n",
    ")\n",
    "\n",
    "p, st = Lux.setup(rng, dudt2) |> f64\n",
    "prob_neuralode = NeuralODE(dudt2, tspan, Tsit5(), saveat = tsteps)"
   ],
   "metadata": {},
   "execution_count": null
  },
  {
   "cell_type": "markdown",
   "source": [
    "Predicted output"
   ],
   "metadata": {}
  },
  {
   "outputs": [],
   "cell_type": "code",
   "source": [
    "predict_neuralode(p) = Array(prob_neuralode(u0, p, st)[1])"
   ],
   "metadata": {},
   "execution_count": null
  },
  {
   "cell_type": "markdown",
   "source": [
    "Loss function\n",
    "Optimization.jl v4 only accept a scalar output"
   ],
   "metadata": {}
  },
  {
   "outputs": [],
   "cell_type": "code",
   "source": [
    "function loss_neuralode(p)\n",
    "    pred = predict_neuralode(p)\n",
    "    l2loss = sum(abs2, ode_data .- pred)\n",
    "    return l2loss\n",
    "end"
   ],
   "metadata": {},
   "execution_count": null
  },
  {
   "cell_type": "markdown",
   "source": [
    "Callback function"
   ],
   "metadata": {}
  },
  {
   "outputs": [],
   "cell_type": "code",
   "source": [
    "anim = Animation()\n",
    "lossrecord=Float64[]\n",
    "callback = function (state, l; doplot = true)\n",
    "    if doplot\n",
    "        pred = predict_neuralode(state.u)\n",
    "        plt = scatter(tsteps, ode_data[1,:], label = \"data\")\n",
    "        scatter!(plt, tsteps, pred[1,:], label = \"prediction\")\n",
    "        frame(anim)\n",
    "        push!(lossrecord, l)\n",
    "    else\n",
    "        println(l)\n",
    "    end\n",
    "    return false\n",
    "end"
   ],
   "metadata": {},
   "execution_count": null
  },
  {
   "cell_type": "markdown",
   "source": [
    "Try the callback function to see if it works."
   ],
   "metadata": {}
  },
  {
   "outputs": [],
   "cell_type": "code",
   "source": [
    "pinit = ComponentArray(p)\n",
    "callback((; u = pinit), loss_neuralode(pinit); doplot=false)"
   ],
   "metadata": {},
   "execution_count": null
  },
  {
   "cell_type": "markdown",
   "source": [
    "Use https://github.com/SciML/Optimization.jl to solve the problem and https://github.com/FluxML/Zygote.jl for automatic differentiation (AD)."
   ],
   "metadata": {}
  },
  {
   "outputs": [],
   "cell_type": "code",
   "source": [
    "adtype = Optimization.AutoZygote()"
   ],
   "metadata": {},
   "execution_count": null
  },
  {
   "cell_type": "markdown",
   "source": [
    "Define a [function](https://docs.sciml.ai/Optimization/stable/API/optimization_function/) to optimize with AD."
   ],
   "metadata": {}
  },
  {
   "outputs": [],
   "cell_type": "code",
   "source": [
    "optf = Optimization.OptimizationFunction((x, p) -> loss_neuralode(x), adtype)"
   ],
   "metadata": {},
   "execution_count": null
  },
  {
   "cell_type": "markdown",
   "source": [
    "Define an `OptimizationProblem`"
   ],
   "metadata": {}
  },
  {
   "outputs": [],
   "cell_type": "code",
   "source": [
    "optprob = Optimization.OptimizationProblem(optf, pinit)"
   ],
   "metadata": {},
   "execution_count": null
  },
  {
   "cell_type": "markdown",
   "source": [
    "Solve the `OptimizationProblem` using the ADAM optimizer first to get a rough estimate."
   ],
   "metadata": {}
  },
  {
   "outputs": [],
   "cell_type": "code",
   "source": [
    "result_neuralode = Optimization.solve(\n",
    "    optprob,\n",
    "    OptimizationOptimisers.Adam(0.05),\n",
    "    callback = callback,\n",
    "    maxiters = 300\n",
    ")\n",
    "\n",
    "println(\"Loss is: \", loss_neuralode(result_neuralode.u))"
   ],
   "metadata": {},
   "execution_count": null
  },
  {
   "cell_type": "markdown",
   "source": [
    "Use another optimizer (BFGS) to refine the solution."
   ],
   "metadata": {}
  },
  {
   "outputs": [],
   "cell_type": "code",
   "source": [
    "optprob2 = remake(optprob; u0 = result_neuralode.u)\n",
    "\n",
    "result_neuralode2 = Optimization.solve(\n",
    "    optprob2,\n",
    "    Optim.BFGS(; initial_stepnorm = 0.01),\n",
    "    callback = callback,\n",
    "    allow_f_increases = false\n",
    ")\n",
    "\n",
    "println(\"Loss is: \", loss_neuralode(result_neuralode2.u))"
   ],
   "metadata": {},
   "execution_count": null
  },
  {
   "cell_type": "markdown",
   "source": [
    "Visualize the fitting process"
   ],
   "metadata": {}
  },
  {
   "outputs": [],
   "cell_type": "code",
   "source": [
    "mp4(anim, fps=15)"
   ],
   "metadata": {},
   "execution_count": null
  },
  {
   "outputs": [],
   "cell_type": "code",
   "source": [
    "lossrecord\n",
    "plot(lossrecord[1:300], xlabel=\"Iters\", ylabel=\"Loss\", lab=\"Adam\", yscale=:log10)\n",
    "plot!(300:length(lossrecord), lossrecord[300:end], lab=\"BFGS\")"
   ],
   "metadata": {},
   "execution_count": null
  },
  {
   "cell_type": "markdown",
   "source": [
    "---\n",
    "\n",
    "*This notebook was generated using [Literate.jl](https://github.com/fredrikekre/Literate.jl).*"
   ],
   "metadata": {}
  }
 ],
 "nbformat_minor": 3,
 "metadata": {
  "language_info": {
   "file_extension": ".jl",
   "mimetype": "application/julia",
   "name": "julia",
   "version": "1.12.1"
  },
  "kernelspec": {
   "name": "julia-1.12",
   "display_name": "Julia 1.12.1",
   "language": "julia"
  }
 },
 "nbformat": 4
}