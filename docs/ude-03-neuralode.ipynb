{
 "cells": [
  {
   "cell_type": "markdown",
   "source": [
    "# Solving ODEs with NeuralPDE.jl\n",
    "\n",
    "From https://docs.sciml.ai/NeuralPDE/stable/tutorials/ode/"
   ],
   "metadata": {}
  },
  {
   "outputs": [],
   "cell_type": "code",
   "source": [
    "using NeuralPDE\n",
    "using Lux\n",
    "using OptimizationOptimisers\n",
    "using OrdinaryDiffEq\n",
    "using LinearAlgebra\n",
    "using Random\n",
    "using Plots\n",
    "rng = Random.Xoshiro(0)"
   ],
   "metadata": {},
   "execution_count": null
  },
  {
   "cell_type": "markdown",
   "source": [
    "## Solve ODEs\n",
    "The true function: $u^{\\prime} = cos(2 \\pi t)$"
   ],
   "metadata": {}
  },
  {
   "outputs": [],
   "cell_type": "code",
   "source": [
    "model(u, p, t) = cospi(2t)"
   ],
   "metadata": {},
   "execution_count": null
  },
  {
   "cell_type": "markdown",
   "source": [
    "Prepare data"
   ],
   "metadata": {}
  },
  {
   "outputs": [],
   "cell_type": "code",
   "source": [
    "tspan = (0.0, 1.0)\n",
    "u0 = 0.0\n",
    "prob = ODEProblem(model, u0, tspan)"
   ],
   "metadata": {},
   "execution_count": null
  },
  {
   "cell_type": "markdown",
   "source": [
    "Construct a neural network to solve the problem."
   ],
   "metadata": {}
  },
  {
   "outputs": [],
   "cell_type": "code",
   "source": [
    "chain = Lux.Chain(Lux.Dense(1, 5, σ), Lux.Dense(5, 1))\n",
    "ps, st = Lux.setup(rng, chain) |> f64"
   ],
   "metadata": {},
   "execution_count": null
  },
  {
   "cell_type": "markdown",
   "source": [
    "Solve the ODE as in `DifferentialEquations.jl`, just change the solver algorithm to `NeuralPDE.NNODE()`."
   ],
   "metadata": {}
  },
  {
   "outputs": [],
   "cell_type": "code",
   "source": [
    "optimizer = OptimizationOptimisers.Adam(0.1)\n",
    "alg = NeuralPDE.NNODE(chain, optimizer, init_params = ps)\n",
    "sol = solve(prob, alg, maxiters=2000, saveat = 0.01)"
   ],
   "metadata": {},
   "execution_count": null
  },
  {
   "cell_type": "markdown",
   "source": [
    "Comparing to the regular solver"
   ],
   "metadata": {}
  },
  {
   "outputs": [],
   "cell_type": "code",
   "source": [
    "sol2 = solve(prob, Tsit5(), saveat=sol.t)"
   ],
   "metadata": {},
   "execution_count": null
  },
  {
   "outputs": [],
   "cell_type": "code",
   "source": [
    "plot(sol2, label = \"Tsit5\")\n",
    "plot!(sol.t, sol.u, label = \"NNODE\")"
   ],
   "metadata": {},
   "execution_count": null
  },
  {
   "cell_type": "markdown",
   "source": [
    "## Parameter estimation"
   ],
   "metadata": {}
  },
  {
   "outputs": [],
   "cell_type": "code",
   "source": [
    "using NeuralPDE, OrdinaryDiffEq, Lux, Random, OptimizationOptimJL, LineSearches, Plots\n",
    "rng = Random.Xoshiro(0)"
   ],
   "metadata": {},
   "execution_count": null
  },
  {
   "cell_type": "markdown",
   "source": [
    "NNODE only supports out-of-place functions"
   ],
   "metadata": {}
  },
  {
   "outputs": [],
   "cell_type": "code",
   "source": [
    "function lv(u, p, t)\n",
    "    u₁, u₂ = u\n",
    "    α, β, γ, δ = p\n",
    "    du₁ = α * u₁ - β * u₁ * u₂\n",
    "    du₂ = δ * u₁ * u₂ - γ * u₂\n",
    "    [du₁, du₂]\n",
    "end"
   ],
   "metadata": {},
   "execution_count": null
  },
  {
   "cell_type": "markdown",
   "source": [
    "Generate data"
   ],
   "metadata": {}
  },
  {
   "outputs": [],
   "cell_type": "code",
   "source": [
    "tspan = (0.0, 5.0)\n",
    "u0 = [5.0, 5.0]\n",
    "true_p = [1.5, 1.0, 3.0, 1.0]\n",
    "prob = ODEProblem(lv, u0, tspan, true_p)\n",
    "sol_data = solve(prob, Tsit5(), saveat = 0.01)\n",
    "\n",
    "t_ = sol_data.t\n",
    "u_ = Array(sol_data)"
   ],
   "metadata": {},
   "execution_count": null
  },
  {
   "cell_type": "markdown",
   "source": [
    "Define a neural network"
   ],
   "metadata": {}
  },
  {
   "outputs": [],
   "cell_type": "code",
   "source": [
    "n = 15\n",
    "chain = Chain(Dense(1, n, σ), Dense(n, n, σ), Dense(n, n, σ), Dense(n, 2))\n",
    "ps, st = Lux.setup(rng, chain) |> f64"
   ],
   "metadata": {},
   "execution_count": null
  },
  {
   "cell_type": "markdown",
   "source": [
    "Loss function"
   ],
   "metadata": {}
  },
  {
   "outputs": [],
   "cell_type": "code",
   "source": [
    "additional_loss(phi, θ) = sum(abs2, phi(t_, θ) .- u_) / size(u_, 2)"
   ],
   "metadata": {},
   "execution_count": null
  },
  {
   "cell_type": "markdown",
   "source": [
    "NNODE solver"
   ],
   "metadata": {}
  },
  {
   "outputs": [],
   "cell_type": "code",
   "source": [
    "opt = LBFGS(linesearch = BackTracking())\n",
    "alg = NNODE(chain, opt, ps; strategy = WeightedIntervalTraining([0.7, 0.2, 0.1], 500), param_estim = true, additional_loss)"
   ],
   "metadata": {},
   "execution_count": null
  },
  {
   "cell_type": "markdown",
   "source": [
    "Solve the problem\n",
    "Use `verbose=true` to see the fitting process"
   ],
   "metadata": {}
  },
  {
   "outputs": [],
   "cell_type": "code",
   "source": [
    "sol = solve(prob, alg, verbose = false, abstol = 1e-8, maxiters = 5000, saveat = t_)"
   ],
   "metadata": {},
   "execution_count": null
  },
  {
   "cell_type": "markdown",
   "source": [
    "See the fitted parameters"
   ],
   "metadata": {}
  },
  {
   "outputs": [],
   "cell_type": "code",
   "source": [
    "println(sol.k.u.p)"
   ],
   "metadata": {},
   "execution_count": null
  },
  {
   "cell_type": "markdown",
   "source": [
    "Visualize the fit"
   ],
   "metadata": {}
  },
  {
   "outputs": [],
   "cell_type": "code",
   "source": [
    "plot(sol, labels = [\"u1_pinn\" \"u2_pinn\"])\n",
    "plot!(sol_data, labels = [\"u1_data\" \"u2_data\"])"
   ],
   "metadata": {},
   "execution_count": null
  },
  {
   "cell_type": "markdown",
   "source": [
    "---\n",
    "\n",
    "*This notebook was generated using [Literate.jl](https://github.com/fredrikekre/Literate.jl).*"
   ],
   "metadata": {}
  }
 ],
 "nbformat_minor": 3,
 "metadata": {
  "language_info": {
   "file_extension": ".jl",
   "mimetype": "application/julia",
   "name": "julia",
   "version": "1.12.1"
  },
  "kernelspec": {
   "name": "julia-1.12",
   "display_name": "Julia 1.12.1",
   "language": "julia"
  }
 },
 "nbformat": 4
}