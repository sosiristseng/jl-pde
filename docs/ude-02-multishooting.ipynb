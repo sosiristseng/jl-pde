{
 "cells": [
  {
   "cell_type": "markdown",
   "source": [
    "# Multiple Shooting\n",
    "\n",
    "Docs: https://docs.sciml.ai/DiffEqFlux/dev/examples/multiple_shooting/\n",
    "\n",
    "In Multiple Shooting, the training data is split into overlapping intervals. The solver (`OptimizationPolyalgorithms.PolyOpt()`) is trained on individual intervals. The results are stiched together.\n",
    "\n",
    "This simple method assumes no noise in the data. A more robust version can be found at [JuliaSimModelOptimizer.jl](https://help.juliahub.com/jsmo/stable/), which is a  proprietary software."
   ],
   "metadata": {}
  },
  {
   "outputs": [],
   "cell_type": "code",
   "source": [
    "using Lux\n",
    "using ComponentArrays\n",
    "using DiffEqFlux\n",
    "using DiffEqFlux: group_ranges\n",
    "using Optimization\n",
    "using OptimizationPolyalgorithms\n",
    "using OrdinaryDiffEq\n",
    "using Plots\n",
    "using Random\n",
    "rng = Random.Xoshiro(0)"
   ],
   "metadata": {},
   "execution_count": null
  },
  {
   "cell_type": "markdown",
   "source": [
    "Define initial conditions and time steps"
   ],
   "metadata": {}
  },
  {
   "outputs": [],
   "cell_type": "code",
   "source": [
    "datasize = 51\n",
    "u0 = [2.0, 0.0]\n",
    "tspan = (0.0, 5.0)\n",
    "tsteps = range(tspan[begin], tspan[end], length = datasize)"
   ],
   "metadata": {},
   "execution_count": null
  },
  {
   "cell_type": "markdown",
   "source": [
    "True values"
   ],
   "metadata": {}
  },
  {
   "outputs": [],
   "cell_type": "code",
   "source": [
    "true_A = [-0.1 2.0; -2.0 -0.1]"
   ],
   "metadata": {},
   "execution_count": null
  },
  {
   "cell_type": "markdown",
   "source": [
    "Generate data from the true function: $x^3 * A$"
   ],
   "metadata": {}
  },
  {
   "outputs": [],
   "cell_type": "code",
   "source": [
    "function trueODEfunc!(du, u, p, t)\n",
    "    du .= ((u.^3)'true_A)'\n",
    "end\n",
    "prob_trueode = ODEProblem(trueODEfunc!, u0, tspan)\n",
    "ode_data = Array(solve(prob_trueode, Tsit5(), saveat = tsteps))"
   ],
   "metadata": {},
   "execution_count": null
  },
  {
   "cell_type": "markdown",
   "source": [
    "Define the Neural Network using Lux.jl\n",
    "Notice the network is smaller than the first example."
   ],
   "metadata": {}
  },
  {
   "outputs": [],
   "cell_type": "code",
   "source": [
    "nn = Lux.Chain(\n",
    "    x -> x.^3,\n",
    "    Lux.Dense(2, 16, tanh),\n",
    "    Lux.Dense(16, 2)\n",
    ")\n",
    "p_init, st = Lux.setup(rng, nn) |> f64\n",
    "ps = ComponentArray(p_init)\n",
    "pd, pax = getdata(ps), getaxes(ps)"
   ],
   "metadata": {},
   "execution_count": null
  },
  {
   "cell_type": "markdown",
   "source": [
    "Define the `NeuralODE` problem"
   ],
   "metadata": {}
  },
  {
   "outputs": [],
   "cell_type": "code",
   "source": [
    "neuralode = NeuralODE(nn, tspan, Tsit5(), saveat = tsteps)\n",
    "prob_node = ODEProblem((u,p,t)->nn(u,p,st)[1], u0, tspan, ComponentArray(p_init))"
   ],
   "metadata": {},
   "execution_count": null
  },
  {
   "cell_type": "markdown",
   "source": [
    "Animate training process in the callback function"
   ],
   "metadata": {}
  },
  {
   "outputs": [],
   "cell_type": "code",
   "source": [
    "function plot_multiple_shoot(plt, preds, group_size)\n",
    "\tranges = group_ranges(datasize, group_size)\n",
    "\tfor (i, rg) in enumerate(ranges)\n",
    "\t\tplot!(plt, tsteps[rg], preds[i][1,:], markershape=:circle, label=\"Group $(i)\")\n",
    "\tend\n",
    "end\n",
    "\n",
    "anim = Animation()\n",
    "lossrecord=Float64[]\n",
    "callback = function (state, l; doplot = true)\n",
    "    if doplot\n",
    "        plt = scatter(tsteps, ode_data[1,:], label = \"Data\")\n",
    "        plot_multiple_shoot(plt, preds, group_size)\n",
    "        frame(anim)\n",
    "        push!(lossrecord, l)\n",
    "    end\n",
    "    return false\n",
    "end"
   ],
   "metadata": {},
   "execution_count": null
  },
  {
   "cell_type": "markdown",
   "source": [
    "Parameters for Multiple Shooting"
   ],
   "metadata": {}
  },
  {
   "outputs": [],
   "cell_type": "code",
   "source": [
    "group_size = 3\n",
    "continuity_term = 200  ## Penalty for discontinuity\n",
    "\n",
    "function loss_function(data, pred)\n",
    "    return sum(abs2, data .- pred)\n",
    "end\n",
    "\n",
    "l1, preds = multiple_shoot(ps, ode_data, tsteps, prob_node, loss_function, Tsit5(), group_size; continuity_term)\n",
    "\n",
    "function loss_multiple_shooting(p)\n",
    "    ps = ComponentArray(p, pax)\n",
    "\n",
    "    loss, currpred = multiple_shoot(ps, ode_data, tsteps, prob_node, loss_function,\n",
    "        Tsit5(), group_size; continuity_term)\n",
    "    global preds = currpred\n",
    "    return loss\n",
    "end"
   ],
   "metadata": {},
   "execution_count": null
  },
  {
   "cell_type": "markdown",
   "source": [
    "Solve the problem using `OptimizationPolyalgorithms.PolyOpt()`."
   ],
   "metadata": {}
  },
  {
   "outputs": [],
   "cell_type": "code",
   "source": [
    "adtype = Optimization.AutoZygote()\n",
    "optf = Optimization.OptimizationFunction((x,p) -> loss_multiple_shooting(x), adtype)\n",
    "optprob = Optimization.OptimizationProblem(optf, pd)\n",
    "res_ms = Optimization.solve(optprob, PolyOpt(), callback = callback)\n",
    "\n",
    "println(\"Loss is \", loss_multiple_shooting(res_ms.u)[1])"
   ],
   "metadata": {},
   "execution_count": null
  },
  {
   "cell_type": "markdown",
   "source": [
    "Visualize the fitting processes"
   ],
   "metadata": {}
  },
  {
   "outputs": [],
   "cell_type": "code",
   "source": [
    "mp4(anim, fps=15)"
   ],
   "metadata": {},
   "execution_count": null
  },
  {
   "cell_type": "markdown",
   "source": [
    "---\n",
    "\n",
    "*This notebook was generated using [Literate.jl](https://github.com/fredrikekre/Literate.jl).*"
   ],
   "metadata": {}
  }
 ],
 "nbformat_minor": 3,
 "metadata": {
  "language_info": {
   "file_extension": ".jl",
   "mimetype": "application/julia",
   "name": "julia",
   "version": "1.12.1"
  },
  "kernelspec": {
   "name": "julia-1.12",
   "display_name": "Julia 1.12.1",
   "language": "julia"
  }
 },
 "nbformat": 4
}