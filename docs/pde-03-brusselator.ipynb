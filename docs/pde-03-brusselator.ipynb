{
 "cells": [
  {
   "cell_type": "markdown",
   "source": [
    "# 2D Brusselator PDE\n",
    "\n",
    "[Source](https://docs.sciml.ai/MethodOfLines/stable/tutorials/brusselator/)\n",
    "\n",
    "The Brusselator PDE:\n",
    "\n",
    "$$\n",
    "\\begin{align}\n",
    "\\frac{\\partial u}{\\partial t} &= 1 + u^2v - 4.4u + \\alpha (\\frac{\\partial^2 u}{\\partial x^2} + \\frac{\\partial^2 u}{\\partial y^2}) + f(x, y, t) \\\\\n",
    "\\frac{\\partial v}{\\partial t} &= 3.4u - u^2 v + \\alpha (\\frac{\\partial^2 u}{\\partial x^2} + \\frac{\\partial^2 u}{\\partial y^2})\n",
    "\\end{align}\n",
    "$$\n",
    "\n",
    "where\n",
    "\n",
    "$$\n",
    "f(x, y, t) =\n",
    "\\begin{cases}\n",
    "5 \\qquad \\text{if} (x - 0.3)^2 + (y - 0.6)^2 \\leq 0.1^2 \\ \\text{and} \\  t \\geq 1.1  \\\\\n",
    "0 \\qquad \\text{otherwise}\n",
    "\\end{cases}\n",
    "$$\n",
    "\n",
    "and the initial conditions are\n",
    "\n",
    "$$\n",
    "\\begin{align}\n",
    "u(x, y, 0) &= 22(y(1-y))^{1.5} \\\\\n",
    "v(x, y, 0) &= 27(x(1-x))^{1.5}\n",
    "\\end{align}\n",
    "$$\n",
    "\n",
    "with the periodic boundary condition\n",
    "\n",
    "$$\n",
    "\\begin{align}\n",
    "u(x+1, y, 0) &= u(x, y, t)  \\\\\n",
    "u(x, y+1, 0) &= u(x, y, t)\n",
    "\\end{align}\n",
    "$$\n",
    "\n",
    "on a time span of $t \\in [0, 11.5]$."
   ],
   "metadata": {}
  },
  {
   "outputs": [],
   "cell_type": "code",
   "source": [
    "using ModelingToolkit\n",
    "using MethodOfLines\n",
    "using OrdinaryDiffEq\n",
    "using DomainSets\n",
    "using Plots"
   ],
   "metadata": {},
   "execution_count": null
  },
  {
   "cell_type": "markdown",
   "source": [
    "Setup parameters, variables, and differential operators"
   ],
   "metadata": {}
  },
  {
   "outputs": [],
   "cell_type": "code",
   "source": [
    "@independent_variables x y t\n",
    "@variables u(..) v(..)\n",
    "\n",
    "Dt = Differential(t)\n",
    "Dx = Differential(x)\n",
    "Dy = Differential(y)\n",
    "Dxx = Differential(x)^2\n",
    "Dyy = Differential(y)^2\n",
    "∇²(u) = Dxx(u) + Dyy(u)"
   ],
   "metadata": {},
   "execution_count": null
  },
  {
   "cell_type": "markdown",
   "source": [
    "Dynamics on each grid point"
   ],
   "metadata": {}
  },
  {
   "outputs": [],
   "cell_type": "code",
   "source": [
    "brusselator_f(x, y, t) = (((x - 0.3)^2 + (y - 0.6)^2) <= 0.1^2) * (t >= 1.1) * 5\n",
    "\n",
    "x_min = y_min = t_min = 0.0\n",
    "x_max = y_max = 1.0\n",
    "t_max = 11.5\n",
    "α = 10.0\n",
    "\n",
    "u0(x, y, t) = 22 * (y * (1 - y))^(3 / 2)\n",
    "v0(x, y, t) = 27 * (x * (1 - x))^(3 / 2)"
   ],
   "metadata": {},
   "execution_count": null
  },
  {
   "cell_type": "markdown",
   "source": [
    "PDEs"
   ],
   "metadata": {}
  },
  {
   "outputs": [],
   "cell_type": "code",
   "source": [
    "eqs = [\n",
    "    Dt(u(x, y, t)) ~ 1.0 + v(x, y, t) * u(x, y, t)^2 - 4.4 * u(x, y, t) + α * ∇²(u(x, y, t)) + brusselator_f(x, y, t),\n",
    "    Dt(v(x, y, t)) ~ 3.4 * u(x, y, t) - v(x, y, t) * u(x, y, t)^2 + α * ∇²(v(x, y, t))\n",
    "]"
   ],
   "metadata": {},
   "execution_count": null
  },
  {
   "cell_type": "markdown",
   "source": [
    "Space and time domains"
   ],
   "metadata": {}
  },
  {
   "outputs": [],
   "cell_type": "code",
   "source": [
    "domains = [\n",
    "    x ∈ Interval(x_min, x_max),\n",
    "    y ∈ Interval(y_min, y_max),\n",
    "    t ∈ Interval(t_min, t_max)\n",
    "]"
   ],
   "metadata": {},
   "execution_count": null
  },
  {
   "cell_type": "markdown",
   "source": [
    "Periodic boundary conditions"
   ],
   "metadata": {}
  },
  {
   "outputs": [],
   "cell_type": "code",
   "source": [
    "bcs = [\n",
    "    u(x, y, 0) ~ u0(x, y, 0),\n",
    "    u(0, y, t) ~ u(1, y, t),\n",
    "    u(x, 0, t) ~ u(x, 1, t),\n",
    "    v(x, y, 0) ~ v0(x, y, 0),\n",
    "    v(0, y, t) ~ v(1, y, t),\n",
    "    v(x, 0, t) ~ v(x, 1, t)\n",
    "]"
   ],
   "metadata": {},
   "execution_count": null
  },
  {
   "cell_type": "markdown",
   "source": [
    "PDE system"
   ],
   "metadata": {}
  },
  {
   "outputs": [],
   "cell_type": "code",
   "source": [
    "@named pdesys = PDESystem(eqs, bcs, domains, [x, y, t], [u(x, y, t), v(x, y, t)])"
   ],
   "metadata": {},
   "execution_count": null
  },
  {
   "cell_type": "markdown",
   "source": [
    "Discretization to an ODE system"
   ],
   "metadata": {}
  },
  {
   "outputs": [],
   "cell_type": "code",
   "source": [
    "@time disc = let N = 20, order = 2\n",
    "    dx = 1 / N\n",
    "    MOLFiniteDifference([x=>dx, y=>dx], t; approx_order=order)\n",
    "end"
   ],
   "metadata": {},
   "execution_count": null
  },
  {
   "cell_type": "markdown",
   "source": [
    "convert the `PDESystem` in to an `ODEProblem` or a `NonlinearProblem`"
   ],
   "metadata": {}
  },
  {
   "outputs": [],
   "cell_type": "code",
   "source": [
    "@time prob = discretize(pdesys, disc)"
   ],
   "metadata": {},
   "execution_count": null
  },
  {
   "cell_type": "markdown",
   "source": [
    "Solvers: https://diffeq.sciml.ai/stable/solvers/ode_solve/"
   ],
   "metadata": {}
  },
  {
   "outputs": [],
   "cell_type": "code",
   "source": [
    "@time sol = solve(prob, KenCarp47(), saveat=0.1)"
   ],
   "metadata": {},
   "execution_count": null
  },
  {
   "cell_type": "markdown",
   "source": [
    "Extract data"
   ],
   "metadata": {}
  },
  {
   "outputs": [],
   "cell_type": "code",
   "source": [
    "discrete_x = sol[x]\n",
    "discrete_y = sol[y]\n",
    "discrete_t = sol[t]\n",
    "\n",
    "solu = sol[u(x, y, t)]\n",
    "solv = sol[v(x, y, t)]\n",
    "\n",
    "umax = maximum(maximum, solu)\n",
    "vmax = maximum(maximum, solv)"
   ],
   "metadata": {},
   "execution_count": null
  },
  {
   "cell_type": "markdown",
   "source": [
    "## Visualization\n",
    "Interval == `2:end` since in periodic condition, end == 1"
   ],
   "metadata": {}
  },
  {
   "outputs": [],
   "cell_type": "code",
   "source": [
    "anim = @animate for k in eachindex(discrete_t)\n",
    "    heatmap(solu[2:end, 2:end, k], title=\"u @ t=$(discrete_t[k])\", clims = (0.0, umax))\n",
    "end\n",
    "\n",
    "mp4(anim, fps = 8)"
   ],
   "metadata": {},
   "execution_count": null
  },
  {
   "outputs": [],
   "cell_type": "code",
   "source": [
    "anim = @animate for k in eachindex(discrete_t)\n",
    "    heatmap(solv[2:end, 2:end, k], title=\"v @ t=$(discrete_t[k])\", clims = (0.0, vmax))\n",
    "end\n",
    "\n",
    "mp4(anim, fps = 8)"
   ],
   "metadata": {},
   "execution_count": null
  },
  {
   "cell_type": "markdown",
   "source": [
    "---\n",
    "\n",
    "*This notebook was generated using [Literate.jl](https://github.com/fredrikekre/Literate.jl).*"
   ],
   "metadata": {}
  }
 ],
 "nbformat_minor": 3,
 "metadata": {
  "language_info": {
   "file_extension": ".jl",
   "mimetype": "application/julia",
   "name": "julia",
   "version": "1.12.1"
  },
  "kernelspec": {
   "name": "julia-1.12",
   "display_name": "Julia 1.12.1",
   "language": "julia"
  }
 },
 "nbformat": 4
}