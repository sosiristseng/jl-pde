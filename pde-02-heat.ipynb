{
 "cells": [
  {
   "cell_type": "markdown",
   "source": [
    "# 2D time-independent heat equation\n",
    "\n",
    "From the tutorial\n",
    "+ https://docs.sciml.ai/MethodOfLines/stable/tutorials/heatss/\n",
    "+ https://docs.sciml.ai/MethodOfLines/stable/tutorials/heat/\n",
    "\n",
    "Using `MethodOfLines.jl` (https://github.com/SciML/MethodOfLines.jl/) to symbolically define the PDE system and use the [finite difference method](https://en.wikipedia.org/wiki/Finite_difference_method) (FDM) to solve the following PDE:\n",
    "\n",
    "$$\n",
    "\\frac{\\partial u}{\\partial t} = \\frac{\\partial^2 u}{\\partial x^2} + \\frac{\\partial^2 u}{\\partial y^2}\n",
    "$$"
   ],
   "metadata": {}
  },
  {
   "outputs": [],
   "cell_type": "code",
   "source": [
    "using ModelingToolkit\n",
    "using MethodOfLines\n",
    "using DomainSets\n",
    "using OrdinaryDiffEq\n",
    "using NonlinearSolve\n",
    "using Plots"
   ],
   "metadata": {},
   "execution_count": null
  },
  {
   "cell_type": "markdown",
   "source": [
    "Setup variables and differential operators"
   ],
   "metadata": {}
  },
  {
   "outputs": [],
   "cell_type": "code",
   "source": [
    "@independent_variables x y\n",
    "@variables u(..)\n",
    "\n",
    "Dxx = Differential(x)^2\n",
    "Dyy = Differential(y)^2"
   ],
   "metadata": {},
   "execution_count": null
  },
  {
   "cell_type": "markdown",
   "source": [
    "PDE equation"
   ],
   "metadata": {}
  },
  {
   "outputs": [],
   "cell_type": "code",
   "source": [
    "eq = Dxx(u(x, y)) + Dyy(u(x, y)) ~ 0"
   ],
   "metadata": {},
   "execution_count": null
  },
  {
   "cell_type": "markdown",
   "source": [
    "Boundary conditions"
   ],
   "metadata": {}
  },
  {
   "outputs": [],
   "cell_type": "code",
   "source": [
    "bcs = [u(0, y) ~ x * y,\n",
    "       u(1, y) ~ x * y,\n",
    "       u(x, 0) ~ x * y,\n",
    "       u(x, 1) ~ x * y\n",
    "]"
   ],
   "metadata": {},
   "execution_count": null
  },
  {
   "cell_type": "markdown",
   "source": [
    "Space and time domains"
   ],
   "metadata": {}
  },
  {
   "outputs": [],
   "cell_type": "code",
   "source": [
    "domains = [ x ∈ Interval(0.0, 1.0), y ∈ Interval(0.0, 1.0)]"
   ],
   "metadata": {},
   "execution_count": null
  },
  {
   "cell_type": "markdown",
   "source": [
    "PDE system"
   ],
   "metadata": {}
  },
  {
   "outputs": [],
   "cell_type": "code",
   "source": [
    "@named pdesys = PDESystem(eq, bcs, domains, [x, y], [u(x, y)])"
   ],
   "metadata": {},
   "execution_count": null
  },
  {
   "cell_type": "markdown",
   "source": [
    "Discretize the PDE system into an Nonlinear system\n",
    "Pass `nothing` to the time parameter"
   ],
   "metadata": {}
  },
  {
   "outputs": [],
   "cell_type": "code",
   "source": [
    "@time prob = let dx=0.1\n",
    "    discretization = MOLFiniteDifference([x=>dx, y=>dx], nothing, approx_order=2, grid_align = MethodOfLines.EdgeAlignedGrid())\n",
    "    prob = discretize(pdesys, discretization)\n",
    "end"
   ],
   "metadata": {},
   "execution_count": null
  },
  {
   "cell_type": "markdown",
   "source": [
    "Solve the PDE"
   ],
   "metadata": {}
  },
  {
   "outputs": [],
   "cell_type": "code",
   "source": [
    "@time sol = NonlinearSolve.solve(prob, NewtonRaphson())"
   ],
   "metadata": {},
   "execution_count": null
  },
  {
   "cell_type": "markdown",
   "source": [
    "Extract data"
   ],
   "metadata": {}
  },
  {
   "outputs": [],
   "cell_type": "code",
   "source": [
    "discrete_x = sol[x]\n",
    "discrete_y = sol[y]\n",
    "u_sol = sol[u(x,y)]"
   ],
   "metadata": {},
   "execution_count": null
  },
  {
   "cell_type": "markdown",
   "source": [
    "Visualize the solution"
   ],
   "metadata": {}
  },
  {
   "outputs": [],
   "cell_type": "code",
   "source": [
    "heatmap(\n",
    "    discrete_x, discrete_y, u_sol,\n",
    "    xlabel=\"x values\", ylabel=\"y values\", aspect_ratio=:equal,\n",
    "    title=\"Steady State Heat Equation\", xlims=(0, 1), ylims=(0, 1)\n",
    ")"
   ],
   "metadata": {},
   "execution_count": null
  },
  {
   "cell_type": "markdown",
   "source": [
    "---\n",
    "\n",
    "*This notebook was generated using [Literate.jl](https://github.com/fredrikekre/Literate.jl).*"
   ],
   "metadata": {}
  }
 ],
 "nbformat_minor": 3,
 "metadata": {
  "language_info": {
   "file_extension": ".jl",
   "mimetype": "application/julia",
   "name": "julia",
   "version": "1.11.7"
  },
  "kernelspec": {
   "name": "julia-1.11",
   "display_name": "Julia 1.11.7",
   "language": "julia"
  }
 },
 "nbformat": 4
}
