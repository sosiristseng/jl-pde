{
 "cells": [
  {
   "cell_type": "markdown",
   "source": [
    "# Creating PDEs from ODEs\n",
    "\n",
    "Modeling the Brusselator PDE:\n",
    "\n",
    "$$\n",
    "\\begin{align}\n",
    "\\frac{\\partial u}{\\partial t} &= 1 + u^2v - 4.4u + \\alpha (\\frac{\\partial^2 u}{\\partial x^2} + \\frac{\\partial^2 u}{\\partial y^2}) + f(x, y, t) \\\\\n",
    "\\frac{\\partial v}{\\partial t} &= 3.4u - u^2 v + \\alpha (\\frac{\\partial^2 u}{\\partial x^2} + \\frac{\\partial^2 u}{\\partial y^2})\n",
    "\\end{align}\n",
    "$$"
   ],
   "metadata": {}
  },
  {
   "outputs": [],
   "cell_type": "code",
   "source": [
    "import ComponentArrays.ComponentArray as CA\n",
    "using SimpleUnPack\n",
    "using OrdinaryDiffEq\n",
    "using LinearSolve\n",
    "using Plots"
   ],
   "metadata": {},
   "execution_count": null
  },
  {
   "cell_type": "markdown",
   "source": [
    "Initial conditions"
   ],
   "metadata": {}
  },
  {
   "outputs": [],
   "cell_type": "code",
   "source": [
    "N=26\n",
    "x_min=0\n",
    "y_min=0\n",
    "t_min=0\n",
    "x_max=1\n",
    "y_max=1\n",
    "t_max=11.5\n",
    "α=10.0\n",
    "u0 = CA(u=zeros(N, N), v=zeros(N, N))\n",
    "xx = range(x_min, x_max, length=N)\n",
    "yy = range(y_min, y_max, length=N)\n",
    "dx = step(xx)\n",
    "dy = step(yy)\n",
    "for i in 1:N, j in 1:N\n",
    "    x = xx[j]\n",
    "    y = yy[i]\n",
    "    u0.u[i, j] = 22 * (y * (1 - y))\n",
    "    u0.v[i, j] = 27 * (x * (1 - x))\n",
    "end\n",
    "u0"
   ],
   "metadata": {},
   "execution_count": null
  },
  {
   "cell_type": "markdown",
   "source": [
    "Discretized PDE problem is a coupled ODE problem"
   ],
   "metadata": {}
  },
  {
   "outputs": [],
   "cell_type": "code",
   "source": [
    "function model(ds, s, p, t)\n",
    "    @unpack α, xx, yy, dx, dy = p\n",
    "    @unpack u, v = s\n",
    "    brusselator_f(x, y, t) = (((x - 0.3)^2 + (y - 0.6)^2) <= 0.1^2) * (t >= 1.1) * 5\n",
    "\n",
    "    for (i, y) in enumerate(yy), (j, x) in enumerate(xx)\n",
    "        uterm = 1.0 + v[i, j] * u[i, j]^2 - 4.4 * u[i, j] + brusselator_f(x, y, t)\n",
    "        vterm = 3.4 * u[i, j] - v[i, j] * u[i, j]^2\n",
    "        # No flux boundary conditions\n",
    "        i_prev = clamp(i - 1, 1, N)\n",
    "        i_next = clamp(i + 1, 1, N)\n",
    "        j_prev = clamp(j - 1, 1, N)\n",
    "        j_next = clamp(j + 1, 1, N)\n",
    "        unabla = (u[i, j_prev] - 2u[i, j] + u[i, j_next]) / dx^2 + (u[i_prev, j] - 2u[i, j] + u[i_next, j]) / dy^2\n",
    "        vnabla = (v[i, j_prev] - 2v[i, j] + v[i, j_next]) / dx^2 + (v[i_prev, j] - 2v[i, j] + v[i_next, j]) / dy^2\n",
    "        ds.u[i, j] = α * unabla + uterm\n",
    "        ds.v[i, j] = α * vnabla + vterm\n",
    "    end\n",
    "    return nothing\n",
    "end"
   ],
   "metadata": {},
   "execution_count": null
  },
  {
   "outputs": [],
   "cell_type": "code",
   "source": [
    "ps = (;α, xx, yy, dx, dy)\n",
    "tspan = (t_min, t_max)\n",
    "prob = ODEProblem(model, u0, tspan, ps)\n",
    "@time sol = solve(prob, FBDF(), saveat=0.1)"
   ],
   "metadata": {},
   "execution_count": null
  },
  {
   "cell_type": "markdown",
   "source": [
    "---\n",
    "\n",
    "*This notebook was generated using [Literate.jl](https://github.com/fredrikekre/Literate.jl).*"
   ],
   "metadata": {}
  }
 ],
 "nbformat_minor": 3,
 "metadata": {
  "language_info": {
   "file_extension": ".jl",
   "mimetype": "application/julia",
   "name": "julia",
   "version": "1.11.7"
  },
  "kernelspec": {
   "name": "julia-1.11",
   "display_name": "Julia 1.11.7",
   "language": "julia"
  }
 },
 "nbformat": 4
}
