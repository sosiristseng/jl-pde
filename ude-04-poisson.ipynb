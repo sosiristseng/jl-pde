{
 "cells": [
  {
   "cell_type": "markdown",
   "source": [
    "# Solving PDEs with ModelingToolkit and NeuralPDE\n",
    "\n",
    "Solving Poisson PDE Systems (https://docs.sciml.ai/NeuralPDE/stable/tutorials/pdesystem/)\n",
    "\n",
    "$$\n",
    "\\partial^{2}_{x}u(x,y) + \\partial^{2}_{y}u(x,y) = -\\sin (\\pi x) \\sin (\\pi y)\n",
    "$$\n",
    "\n",
    "with boundary conditions\n",
    "\n",
    "$$\n",
    "\\begin{align}\n",
    "u(0, y) &= 0 \\\\\n",
    "u(1, y) &= 0 \\\\\n",
    "u(x, 0) &= 0 \\\\\n",
    "u(x, 1) &= 0 \\\\\n",
    "\\end{align}\n",
    "$$\n",
    "\n",
    "where\n",
    "\n",
    "$x ∈ [0, 1], y ∈ [0, 1]$"
   ],
   "metadata": {}
  },
  {
   "outputs": [],
   "cell_type": "code",
   "source": [
    "using NeuralPDE\n",
    "using Lux\n",
    "using Optimization\n",
    "using OptimizationOptimJL\n",
    "using ModelingToolkit\n",
    "using DomainSets\n",
    "using LineSearches\n",
    "using Plots"
   ],
   "metadata": {},
   "execution_count": null
  },
  {
   "cell_type": "markdown",
   "source": [
    "2D PDE"
   ],
   "metadata": {}
  },
  {
   "outputs": [],
   "cell_type": "code",
   "source": [
    "@parameters x y\n",
    "@variables u(..)\n",
    "Dxx = Differential(x)^2\n",
    "Dyy = Differential(y)^2\n",
    "eq  = Dxx(u(x, y)) + Dyy(u(x, y)) ~ -sinpi(x) * sinpi(y)"
   ],
   "metadata": {},
   "execution_count": null
  },
  {
   "cell_type": "markdown",
   "source": [
    "Boundary conditions"
   ],
   "metadata": {}
  },
  {
   "outputs": [],
   "cell_type": "code",
   "source": [
    "bcs = [\n",
    "    u(0, y) ~ 0.0,\n",
    "    u(1, y) ~ 0.0,\n",
    "    u(x, 0) ~ 0.0,\n",
    "    u(x, 1) ~ 0.0\n",
    "]"
   ],
   "metadata": {},
   "execution_count": null
  },
  {
   "cell_type": "markdown",
   "source": [
    "Space domains"
   ],
   "metadata": {}
  },
  {
   "outputs": [],
   "cell_type": "code",
   "source": [
    "domains = [\n",
    "    x ∈ DomainSets.Interval(0.0, 1.0),\n",
    "    y ∈ DomainSets.Interval(0.0, 1.0)\n",
    "]"
   ],
   "metadata": {},
   "execution_count": null
  },
  {
   "cell_type": "markdown",
   "source": [
    "Build a neural network for the PDE solver.\n",
    "Input: 2 dimensions.\n",
    "Hidden layers: 16 neurons * 2 layers.\n",
    "Output: single output `u(x, y)`"
   ],
   "metadata": {}
  },
  {
   "outputs": [],
   "cell_type": "code",
   "source": [
    "dim = 2\n",
    "chain = Lux.Chain(Dense(dim, 16, Lux.σ), Dense(16, 16, Lux.σ), Dense(16, 1))"
   ],
   "metadata": {},
   "execution_count": null
  },
  {
   "cell_type": "markdown",
   "source": [
    "Discretization method uses`PhysicsInformedNN()` (PINN)."
   ],
   "metadata": {}
  },
  {
   "outputs": [],
   "cell_type": "code",
   "source": [
    "dx = 0.05\n",
    "discretization = PhysicsInformedNN(chain, QuadratureTraining(; batch = 200, abstol = 1e-6, reltol = 1e-6))"
   ],
   "metadata": {},
   "execution_count": null
  },
  {
   "cell_type": "markdown",
   "source": [
    "Build the PDE system and discretize it."
   ],
   "metadata": {}
  },
  {
   "outputs": [],
   "cell_type": "code",
   "source": [
    "@named pde_system = PDESystem(eq, bcs, domains, [x, y], [u(x, y)])\n",
    "prob = discretize(pde_system, discretization)"
   ],
   "metadata": {},
   "execution_count": null
  },
  {
   "cell_type": "markdown",
   "source": [
    "Callback function to record the loss"
   ],
   "metadata": {}
  },
  {
   "outputs": [],
   "cell_type": "code",
   "source": [
    "lossrecord = Float64[]\n",
    "callback = function (p, l)\n",
    "    push!(lossrecord, l)\n",
    "    return false\n",
    "end"
   ],
   "metadata": {},
   "execution_count": null
  },
  {
   "cell_type": "markdown",
   "source": [
    "Solve the problem. It may take a long time."
   ],
   "metadata": {}
  },
  {
   "outputs": [],
   "cell_type": "code",
   "source": [
    "opt = OptimizationOptimJL.LBFGS(linesearch = LineSearches.BackTracking())\n",
    "@time res = Optimization.solve(prob, opt, callback = callback, maxiters=1000)"
   ],
   "metadata": {},
   "execution_count": null
  },
  {
   "outputs": [],
   "cell_type": "code",
   "source": [
    "plot(lossrecord, xlabel=\"Iters\", yscale=:log10, ylabel=\"Loss\", lab=false)"
   ],
   "metadata": {},
   "execution_count": null
  },
  {
   "cell_type": "markdown",
   "source": [
    "Plot the predicted solution of the PDE and compare it with the analytical solution to see the relative error."
   ],
   "metadata": {}
  },
  {
   "outputs": [],
   "cell_type": "code",
   "source": [
    "xs, ys = [DomainSets.infimum(d.domain):dx/10:DomainSets.supremum(d.domain) for d in domains]\n",
    "analytic_sol_func(x,y) = (sinpi(x)*sinpi(y))/(2pi^2)\n",
    "\n",
    "phi = discretization.phi\n",
    "u_predict = reshape([first(phi([x, y], res.u)) for x in xs for y in ys], (length(xs), length(ys)))\n",
    "u_real = reshape([analytic_sol_func(x, y) for x in xs for y in ys], (length(xs), length(ys)))\n",
    "diff_u = abs.(u_predict .- u_real)"
   ],
   "metadata": {},
   "execution_count": null
  },
  {
   "outputs": [],
   "cell_type": "code",
   "source": [
    "p1 = plot(xs, ys, u_real, linetype=:contourf, title = \"analytic\");\n",
    "p2 = plot(xs, ys, u_predict, linetype=:contourf, title = \"predicted\");\n",
    "p3 = plot(xs, ys, diff_u, linetype=:contourf, title = \"error\");\n",
    "plot(p1, p2, p3)"
   ],
   "metadata": {},
   "execution_count": null
  },
  {
   "cell_type": "markdown",
   "source": [
    "---\n",
    "\n",
    "*This notebook was generated using [Literate.jl](https://github.com/fredrikekre/Literate.jl).*"
   ],
   "metadata": {}
  }
 ],
 "nbformat_minor": 3,
 "metadata": {
  "language_info": {
   "file_extension": ".jl",
   "mimetype": "application/julia",
   "name": "julia",
   "version": "1.11.7"
  },
  "kernelspec": {
   "name": "julia-1.11",
   "display_name": "Julia 1.11.7",
   "language": "julia"
  }
 },
 "nbformat": 4
}
